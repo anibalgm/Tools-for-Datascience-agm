{
 "cells": [
  {
   "cell_type": "markdown",
   "id": "2111faed-ffdb-41ee-8855-33e1d1ac63ee",
   "metadata": {},
   "source": [
    "# Data Science Tools and Ecosystem"
   ]
  },
  {
   "cell_type": "markdown",
   "id": "995fe7b9-dab3-4f70-b727-440fe1cc4789",
   "metadata": {},
   "source": [
    "In this notebook, Data Science Tools and Ecosystem are summarized."
   ]
  },
  {
   "cell_type": "markdown",
   "id": "165c7400-9b1e-4850-9673-269b70916793",
   "metadata": {},
   "source": [
    "**Objetives:**\n",
    "\n",
    "-Describe some tools for Datascience.\n",
    "\n",
    "-How use jupyter notebook.\n",
    "\n",
    "-List some examples of libraries."
   ]
  },
  {
   "cell_type": "markdown",
   "id": "80e61363-34c5-4acc-8eb1-5b5b4da23409",
   "metadata": {},
   "source": [
    "Some of the popular languages that Data Scientists use are:\n",
    "\n",
    "1.- Python\n",
    "\n",
    "2.- R\n",
    "\n",
    "3.- SQL"
   ]
  },
  {
   "cell_type": "markdown",
   "id": "8b1b770b-3c2b-4a8d-8d63-c049b46b5a7c",
   "metadata": {},
   "source": [
    "Some of the commonly used libraries used by Data Scientists include:\n",
    "\n",
    "1.- Pandas\n",
    "\n",
    "2.-Numpy \n",
    "\n",
    "3.- Matplotlib\n"
   ]
  },
  {
   "cell_type": "markdown",
   "id": "bf8250b3-91bf-4354-a6f9-b31af6b8d831",
   "metadata": {},
   "source": [
    "|Data Science Tools|\n",
    "|------------------|\n",
    "|MYSQL             |\n",
    "|Apache Spark      |\n",
    "|TensorFlow        |"
   ]
  },
  {
   "cell_type": "markdown",
   "id": "c7687526-a38d-4948-b223-b630cb1206ad",
   "metadata": {},
   "source": [
    "### Below are a few examples of evaluating arithmetic expressions in Python"
   ]
  },
  {
   "cell_type": "code",
   "execution_count": 7,
   "id": "9f3bbcec-b029-44ca-beda-1a1f70c747a2",
   "metadata": {},
   "outputs": [
    {
     "data": {
      "text/plain": [
       "17"
      ]
     },
     "execution_count": 7,
     "metadata": {},
     "output_type": "execute_result"
    }
   ],
   "source": [
    "#This a simple arithmetic expression to mutiply then add integers\n",
    "(3*4)+5"
   ]
  },
  {
   "cell_type": "code",
   "execution_count": 8,
   "id": "37d005cd-6d9c-417d-8c5a-9c87ab6f408a",
   "metadata": {},
   "outputs": [
    {
     "data": {
      "text/plain": [
       "3.3333333333333335"
      ]
     },
     "execution_count": 8,
     "metadata": {},
     "output_type": "execute_result"
    }
   ],
   "source": [
    "#this will convert 200 minutes to hours by diving by 60\n",
    "\n",
    "200/60\n"
   ]
  },
  {
   "cell_type": "markdown",
   "id": "0b91adf4-2e71-44fb-9bd6-5e49dcb03872",
   "metadata": {},
   "source": [
    "## Author\n",
    "\n",
    "Anibal Gutiérrez Martínez"
   ]
  },
  {
   "cell_type": "code",
   "execution_count": null,
   "id": "bcccc1e9-edf9-450a-9b74-f2369300e69a",
   "metadata": {},
   "outputs": [],
   "source": []
  }
 ],
 "metadata": {
  "kernelspec": {
   "display_name": "Python 3 (ipykernel)",
   "language": "python",
   "name": "python3"
  },
  "language_info": {
   "codemirror_mode": {
    "name": "ipython",
    "version": 3
   },
   "file_extension": ".py",
   "mimetype": "text/x-python",
   "name": "python",
   "nbconvert_exporter": "python",
   "pygments_lexer": "ipython3",
   "version": "3.11.11"
  }
 },
 "nbformat": 4,
 "nbformat_minor": 5
}
